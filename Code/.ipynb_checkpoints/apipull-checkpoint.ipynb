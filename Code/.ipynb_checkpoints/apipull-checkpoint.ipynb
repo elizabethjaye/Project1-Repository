{
 "cells": [
  {
   "cell_type": "code",
   "execution_count": 1,
   "metadata": {},
   "outputs": [],
   "source": [
    "#Dependencies\n",
    "import requests\n",
    "import json\n",
    "import pandas as pd\n",
    "from apikey import api_key"
   ]
  },
  {
   "cell_type": "code",
   "execution_count": 2,
   "metadata": {},
   "outputs": [],
   "source": [
    "#Create base urls\n",
    "baseurl2017 = \"https://api.census.gov/data/2017/acs/acs1/profile?get=\"\n",
    "baseurl2016 = \"https://api.census.gov/data/2016/acs/acs1/profile?get=\"\n",
    "baseurl2015 = \"https://api.census.gov/data/2015/acs/acs1/profile?get=\"\n",
    "baseurl2014 = \"https://api.census.gov/data/2014/acs/acs1/profile?get=\"\n",
    "baseurl2013 = \"https://api.census.gov/data/2013/acs/acs1/profile?get=\"\n",
    "\n",
    "#Create suffix for url\n",
    "suffix = \"&for=county:095&in=state:12&key=\" + api_key"
   ]
  },
  {
   "cell_type": "code",
   "execution_count": 3,
   "metadata": {},
   "outputs": [],
   "source": [
    "#Import csv\n",
    "path = \"../Resources/api_pulls.csv\"\n",
    "file = pd.read_csv(path)"
   ]
  },
  {
   "cell_type": "code",
   "execution_count": 4,
   "metadata": {},
   "outputs": [],
   "source": [
    "#Begin For-Loops & Pulling APIs\n",
    "\n",
    "#2017\n",
    "url = baseurl2017\n",
    "for row in file[\"2017_Variable\"]:\n",
    "    url = url + row + \",\"\n",
    "url = url[:-1]\n",
    "url = url + suffix    \n",
    "response2017 = requests.get(url).json()\n",
    "\n",
    "#2016\n",
    "url = baseurl2016\n",
    "for row in file[\"2016_Variable\"]:\n",
    "    url = url + row + \",\"\n",
    "url = url[:-1]\n",
    "url = url + suffix    \n",
    "response2016 = requests.get(url).json()\n",
    "\n",
    "#2015\n",
    "url = baseurl2015\n",
    "for row in file[\"2015_Variable\"]:\n",
    "    url = url + row + \",\"\n",
    "url = url[:-1]\n",
    "url = url + suffix    \n",
    "response2015 = requests.get(url).json()\n",
    "\n",
    "#2014\n",
    "url = baseurl2014\n",
    "for row in file[\"2014_Variable\"]:\n",
    "    url = url + row + \",\"\n",
    "url = url[:-1]\n",
    "url = url + suffix    \n",
    "response2014 = requests.get(url).json()\n",
    "\n",
    "#2013\n",
    "url = baseurl2013\n",
    "for row in file[\"2013_Variable\"]:\n",
    "    url = url + row + \",\"\n",
    "url = url[:-1]\n",
    "url = url + suffix    \n",
    "response2013 = requests.get(url).json()"
   ]
  },
  {
   "cell_type": "code",
   "execution_count": 23,
   "metadata": {},
   "outputs": [],
   "source": [
    "#Begin assigning to dictionaries\n",
    "\n",
    "#2017\n",
    "dict2017 = {}\n",
    "counter = 0\n",
    "for row in file[\"Label_Name\"]:\n",
    "    dict2017[row] = response2017[1][counter]\n",
    "    counter = counter + 1\n",
    "\n",
    "#2016\n",
    "dict2016 = {}\n",
    "counter = 0\n",
    "for row in file[\"Label_Name\"]:\n",
    "    dict2016[row] = response2016[1][counter]\n",
    "    counter = counter + 1\n",
    "\n",
    "#2015\n",
    "dict2015 = {}\n",
    "counter = 0\n",
    "for row in file[\"Label_Name\"]:\n",
    "    dict2015[row] = response2015[1][counter]\n",
    "    counter = counter + 1\n",
    "\n",
    "#2014\n",
    "dict2014 = {}\n",
    "counter = 0\n",
    "for row in file[\"Label_Name\"]:\n",
    "    dict2014[row] = response2014[1][counter]\n",
    "    counter = counter + 1\n",
    "\n",
    "#2013\n",
    "dict2013 = {}\n",
    "counter = 0\n",
    "for row in file[\"Label_Name\"]:\n",
    "    dict2013[row] = response2013[1][counter]\n",
    "    counter = counter + 1"
   ]
  },
  {
   "cell_type": "code",
   "execution_count": 29,
   "metadata": {},
   "outputs": [],
   "source": [
    "#DF Merge\n",
    "df = pd.DataFrame([dict2013, dict2014, dict2015, dict2016, dict2017], index=[2013, 2014, 2015, 2016, 2017])\n",
    "\n",
    "#Write to csv -tbd when variables are set"
   ]
  },
  {
   "cell_type": "code",
   "execution_count": null,
   "metadata": {},
   "outputs": [],
   "source": []
  }
 ],
 "metadata": {
  "kernelspec": {
   "display_name": "Python 3",
   "language": "python",
   "name": "python3"
  },
  "language_info": {
   "codemirror_mode": {
    "name": "ipython",
    "version": 3
   },
   "file_extension": ".py",
   "mimetype": "text/x-python",
   "name": "python",
   "nbconvert_exporter": "python",
   "pygments_lexer": "ipython3",
   "version": "3.7.0"
  },
  "varInspector": {
   "cols": {
    "lenName": 16,
    "lenType": 16,
    "lenVar": 40
   },
   "kernels_config": {
    "python": {
     "delete_cmd_postfix": "",
     "delete_cmd_prefix": "del ",
     "library": "var_list.py",
     "varRefreshCmd": "print(var_dic_list())"
    },
    "r": {
     "delete_cmd_postfix": ") ",
     "delete_cmd_prefix": "rm(",
     "library": "var_list.r",
     "varRefreshCmd": "cat(var_dic_list()) "
    }
   },
   "types_to_exclude": [
    "module",
    "function",
    "builtin_function_or_method",
    "instance",
    "_Feature"
   ],
   "window_display": false
  }
 },
 "nbformat": 4,
 "nbformat_minor": 2
}
