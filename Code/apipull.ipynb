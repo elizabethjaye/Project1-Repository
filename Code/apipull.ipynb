{
 "cells": [
  {
   "cell_type": "code",
   "execution_count": 1,
   "metadata": {},
   "outputs": [],
   "source": [
    "#Dependencies\n",
    "import requests\n",
    "import json\n",
    "import pandas as pd\n",
    "import numpy as np\n",
    "from apikey import api_key"
   ]
  },
  {
   "cell_type": "code",
   "execution_count": 2,
   "metadata": {},
   "outputs": [],
   "source": [
    "#Create base urls\n",
    "baseurl = \"https://api.census.gov/data/\"\n",
    "\n",
    "#Create suffix for url\n",
    "suffix = \"&for=county:095&in=state:12&key=\" + api_key"
   ]
  },
  {
   "cell_type": "code",
   "execution_count": 3,
   "metadata": {},
   "outputs": [
    {
     "name": "stdout",
     "output_type": "stream",
     "text": [
      "['2017', '2016', '2015', '2014', '2013']\n",
      "['Households', 'Households (Family)', 'Number of Higher Ed Enrolled', 'Education of Some College - No Degree Attained', \"Education of Associate's Degree Attained\", \"Education of Bachelor's Degree Attained\", 'Education of Graduate or Professional Degree Attained', 'Households with Income Less than $10,000', 'Households with Income Between $10,000 and $14,999', 'Households with Income Between $15,000 and $24,999', 'Households with Income Between $25,000 and $34,999', 'Households with Income Between $35,000 and $49,999', 'Households with Income Between $50,000 and $74,999', 'Households with Income Between $75,000 and $99,999', 'Households with Income Between $100,000 and $149,999', 'Households with Income Between $150,000 and $199,999', 'Households with Income over $200,000', 'Median Household Income (in dollars)', 'Mean Household Income (in dollars)', 'Age of 20 to 24 years', 'Age of 25 to 34 years', 'Age of 35 to 44 years', 'Age of 45 to 54 years', 'Age of 55 to 59 years', 'Age of 60 to 64 years', 'Age of 65 to 74 years', 'Age of 75 to 84 years', 'Age of 85 years and over', 'Race - White', 'Race - Black or African American', 'Race - American Indian and Alaska Native', 'Race - Asian', 'Race - Native Hawaiian and Other Pacific Islander', 'Race - Other', 'Race - White and Black or African American', 'Race - White and American Indian and Alaska Native', 'Race - White and Asian', 'Race - Black or African American and American Indian and Alaska Native', 'Race - Hispanic or Latino', 'State', 'County']\n"
     ]
    }
   ],
   "source": [
    "#Import csv\n",
    "path = \"../Resources/api_pulls.csv\"\n",
    "file = pd.read_csv(path)\n",
    "\n",
    "#splits the column names by the \"_\" delimiter to sort year easier, makes array of first word in the split\n",
    "frontsplit = file.columns.str.split('_').str[0]\n",
    "years = []\n",
    "#loop to take the year values out of split array\n",
    "for element in frontsplit:\n",
    "    if element != 'Formal':\n",
    "        if element != 'Label':\n",
    "            years.append(element)\n",
    "#printing array to show years being looked at\n",
    "print(years)\n",
    "\n",
    "\n",
    "labels = []\n",
    "for label in file[\"Label_Name\"]:\n",
    "    labels.append(label)\n",
    "labels.append(\"State\")\n",
    "labels.append(\"County\")\n",
    "print(labels)"
   ]
  },
  {
   "cell_type": "code",
   "execution_count": 4,
   "metadata": {},
   "outputs": [],
   "source": [
    "#Begin For-Loops & Pulling APIs\n",
    "response = {}\n",
    "counter = 0\n",
    "for year in years:\n",
    "    url = baseurl + year + \"/acs/acs1/profile?get=\"\n",
    "    \n",
    "    #building path to pull api with proper csv column\n",
    "    filename = year + \"_Variable\"\n",
    "    \n",
    "    for row in file[filename]:\n",
    "        url = url + row + \",\"\n",
    "    \n",
    "    #deletes trailing comma from the above loop\n",
    "    url = url[:-1]\n",
    "    url = url + suffix    \n",
    "    \n",
    "    response[counter] = requests.get(url).json()\n",
    "    counter += 1"
   ]
  },
  {
   "cell_type": "code",
   "execution_count": 5,
   "metadata": {},
   "outputs": [
    {
     "name": "stdout",
     "output_type": "stream",
     "text": [
      "{'2017': [['DP02_0001E', 'DP02_0002E', 'DP02_0057E', 'DP02_0062E', 'DP02_0063E', 'DP02_0064E', 'DP02_0065E', 'DP03_0052E', 'DP03_0053E', 'DP03_0054E', 'DP03_0055E', 'DP03_0056E', 'DP03_0057E', 'DP03_0058E', 'DP03_0059E', 'DP03_0060E', 'DP03_0061E', 'DP03_0062E', 'DP03_0063E', 'DP05_0009E', 'DP05_0010E', 'DP05_0011E', 'DP05_0012E', 'DP05_0013E', 'DP05_0014E', 'DP05_0015E', 'DP05_0016E', 'DP05_0017E', 'DP05_0037E', 'DP05_0038E', 'DP05_0039E', 'DP05_0044E', 'DP05_0052E', 'DP05_0057E', 'DP05_0059E', 'DP05_0060E', 'DP05_0061E', 'DP05_0062E', 'DP05_0070E', 'state', 'county'], ['460602', '303666', '117462', '169812', '114043', '206650', '101612', '32037', '21312', '46513', '44670', '67015', '86673', '51286', '55888', '25774', '29434', '54107', '79866', '105130', '227501', '189625', '179293', '84185', '65838', '95903', '43134', '18925', '831468', '286324', '2743', '69335', '1623', '107587', '15643', '4357', '10259', '633', '1348975', '12', '095']], '2016': [['DP02_0001E', 'DP02_0002E', 'DP02_0057E', 'DP02_0062E', 'DP02_0063E', 'DP02_0064E', 'DP02_0065E', 'DP03_0052E', 'DP03_0053E', 'DP03_0054E', 'DP03_0055E', 'DP03_0056E', 'DP03_0057E', 'DP03_0058E', 'DP03_0059E', 'DP03_0060E', 'DP03_0061E', 'DP03_0062E', 'DP03_0063E', 'DP05_0008E', 'DP05_0009E', 'DP05_0010E', 'DP05_0011E', 'DP05_0012E', 'DP05_0013E', 'DP05_0014E', 'DP05_0015E', 'DP05_0016E', 'DP05_0032E', 'DP05_0033E', 'DP05_0034E', 'DP05_0039E', 'DP05_0047E', 'DP05_0052E', 'DP05_0054E', 'DP05_0055E', 'DP05_0056E', 'DP05_0057E', 'DP05_0065E', 'state', 'county'], ['468515', '301665', '130436', '161389', '90715', '196945', '97948', '34958', '22639', '45004', '51346', '72125', '88034', '54810', '54714', '22191', '22694', '51335', '73013', '105781', '220809', '184048', '176506', '79107', '67183', '88981', '41494', '16964', '851713', '276302', '1697', '70844', '50', '67741', '12551', '4753', '6637', '1229', '1314367', '12', '095']], '2015': [['DP02_0001E', 'DP02_0002E', 'DP02_0057E', 'DP02_0062E', 'DP02_0063E', 'DP02_0064E', 'DP02_0065E', 'DP03_0052E', 'DP03_0053E', 'DP03_0054E', 'DP03_0055E', 'DP03_0056E', 'DP03_0057E', 'DP03_0058E', 'DP03_0059E', 'DP03_0060E', 'DP03_0061E', 'DP03_0062E', 'DP03_0063E', 'DP05_0008E', 'DP05_0009E', 'DP05_0010E', 'DP05_0011E', 'DP05_0012E', 'DP05_0013E', 'DP05_0014E', 'DP05_0015E', 'DP05_0016E', 'DP05_0032E', 'DP05_0033E', 'DP05_0034E', 'DP05_0039E', 'DP05_0047E', 'DP05_0052E', 'DP05_0054E', 'DP05_0055E', 'DP05_0056E', 'DP05_0057E', 'DP05_0065E', 'state', 'county'], ['457736', '301978', '113112', '172427', '89449', '185472', '88758', '30287', '22242', '52815', '55926', '64216', '89969', '50107', '49727', '20627', '21820', '50720', '72213', '107252', '215114', '180496', '174959', '76126', '65107', '84662', '37881', '19316', '829874', '263369', '2783', '68409', '1617', '85157', '11182', '3874', '8804', '1306', '1288126', '12', '095']], '2014': [['DP02_0001E', 'DP02_0002E', 'DP02_0057E', 'DP02_0062E', 'DP02_0063E', 'DP02_0064E', 'DP02_0065E', 'DP03_0052E', 'DP03_0053E', 'DP03_0054E', 'DP03_0055E', 'DP03_0056E', 'DP03_0057E', 'DP03_0058E', 'DP03_0059E', 'DP03_0060E', 'DP03_0061E', 'DP03_0062E', 'DP03_0063E', 'DP05_0008E', 'DP05_0009E', 'DP05_0010E', 'DP05_0011E', 'DP05_0012E', 'DP05_0013E', 'DP05_0014E', 'DP05_0015E', 'DP05_0016E', 'DP05_0032E', 'DP05_0033E', 'DP05_0034E', 'DP05_0039E', 'DP05_0047E', 'DP05_0052E', 'DP05_0054E', 'DP05_0055E', 'DP05_0056E', 'DP05_0057E', 'DP05_0065E', 'state', 'county'], ['444543', '283682', '122968', '161727', '95527', '170560', '88350', '36039', '21238', '54638', '52701', '68821', '87148', '42856', '44620', '17799', '18683', '47055', '67719', '106593', '204941', '175876', '171966', '74344', '61414', '79420', '38027', '17620', '819441', '260845', '2682', '64590', '623', '66597', '10523', '3694', '7878', '660', '1253001', '12', '095']], '2013': [['DP02_0001E', 'DP02_0002E', 'DP02_0057E', 'DP02_0062E', 'DP02_0063E', 'DP02_0064E', 'DP02_0065E', 'DP03_0052E', 'DP03_0053E', 'DP03_0054E', 'DP03_0055E', 'DP03_0056E', 'DP03_0057E', 'DP03_0058E', 'DP03_0059E', 'DP03_0060E', 'DP03_0061E', 'DP03_0062E', 'DP03_0063E', 'DP05_0008E', 'DP05_0009E', 'DP05_0010E', 'DP05_0011E', 'DP05_0012E', 'DP05_0013E', 'DP05_0014E', 'DP05_0015E', 'DP05_0016E', 'DP05_0032E', 'DP05_0033E', 'DP05_0034E', 'DP05_0039E', 'DP05_0047E', 'DP05_0052E', 'DP05_0054E', 'DP05_0055E', 'DP05_0056E', 'DP05_0057E', 'DP05_0065E', 'state', 'county'], ['424191', '271246', '127469', '148370', '79272', '179245', '73259', '32210', '21683', '51520', '52336', '66534', '81348', '42204', '45413', '15856', '15087', '46716', '64671', '108345', '198531', '172178', '169121', '73511', '57273', '74589', '40171', '13642', '771637', '248674', '3633', '64141', '393', '95244', '9614', '4413', '7371', '2684', '1225267', '12', '095']]}\n"
     ]
    }
   ],
   "source": [
    "#initial dicitonary key is normal array index. This loop replaces the key with a year using \"counter\" to move through index\n",
    "counter = 0\n",
    "for year in years:\n",
    "    response[year] = response.pop(counter)\n",
    "    counter += 1\n",
    "print(response)\n"
   ]
  },
  {
   "cell_type": "code",
   "execution_count": null,
   "metadata": {},
   "outputs": [],
   "source": []
  }
 ],
 "metadata": {
  "kernelspec": {
   "display_name": "Python 3",
   "language": "python",
   "name": "python3"
  },
  "language_info": {
   "codemirror_mode": {
    "name": "ipython",
    "version": 3
   },
   "file_extension": ".py",
   "mimetype": "text/x-python",
   "name": "python",
   "nbconvert_exporter": "python",
   "pygments_lexer": "ipython3",
   "version": "3.7.1"
  },
  "varInspector": {
   "cols": {
    "lenName": 16,
    "lenType": 16,
    "lenVar": 40
   },
   "kernels_config": {
    "python": {
     "delete_cmd_postfix": "",
     "delete_cmd_prefix": "del ",
     "library": "var_list.py",
     "varRefreshCmd": "print(var_dic_list())"
    },
    "r": {
     "delete_cmd_postfix": ") ",
     "delete_cmd_prefix": "rm(",
     "library": "var_list.r",
     "varRefreshCmd": "cat(var_dic_list()) "
    }
   },
   "types_to_exclude": [
    "module",
    "function",
    "builtin_function_or_method",
    "instance",
    "_Feature"
   ],
   "window_display": false
  }
 },
 "nbformat": 4,
 "nbformat_minor": 2
}
